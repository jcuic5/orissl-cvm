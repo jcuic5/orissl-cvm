{
 "cells": [
  {
   "cell_type": "markdown",
   "metadata": {},
   "source": [
    "# Playground\n",
    "\n",
    "My playground, for learning / debugging / visualizing purposes"
   ]
  },
  {
   "cell_type": "markdown",
   "metadata": {},
   "source": [
    "## Look up dataset images: in a simple way"
   ]
  },
  {
   "cell_type": "code",
   "execution_count": null,
   "metadata": {},
   "outputs": [],
   "source": [
    "import os\n",
    "from os import path as osp\n",
    "import numpy as np\n",
    "from PIL import Image\n",
    "import matplotlib.pyplot as plt\n",
    "\n",
    "import ipywidgets as widgets"
   ]
  },
  {
   "cell_type": "code",
   "execution_count": 2,
   "metadata": {},
   "outputs": [],
   "source": [
    "data_path = \"./data/\"\n",
    "dataset_path = osp.join(data_path, 'CVACT_full', 'streetview')\n",
    "dataset_filenames = sorted(os.listdir(dataset_path))"
   ]
  },
  {
   "cell_type": "code",
   "execution_count": 3,
   "metadata": {},
   "outputs": [],
   "source": [
    "def show_img(dataset_path, filenames, idx):\n",
    "    img_path = osp.join(dataset_path, filenames[idx])\n",
    "    img = np.asarray(Image.open(img_path))\n",
    "    print(f'\\tFile path: {img_path}')\n",
    "    print(f'\\tImage shape: {img.shape}')\n",
    "    plt.imshow(img)\n",
    "    plt.show()\n",
    "\n",
    "def look_dataset(dataset_path, filenames, s=0, l=100):\n",
    "    print(f'Dataset path: {dataset_path}')\n",
    "    print(f'Number of images in {dataset_path}: {len(dataset_filenames)}')\n",
    "    print(f'Current visualizing range: {s} - {s + l}')\n",
    "    widgets.interact(lambda idx: show_img(dataset_path, filenames, idx),\n",
    "                     idx=widgets.IntSlider(min=s, max=min(len(dataset_filenames) - 1, s + l), step=1))"
   ]
  },
  {
   "cell_type": "code",
   "execution_count": 4,
   "metadata": {},
   "outputs": [
    {
     "name": "stdout",
     "output_type": "stream",
     "text": [
      "Dataset path: ./data/CVACT_full/streetview\n",
      "Number of images in ./data/CVACT_full/streetview: 128331\n",
      "Current visualizing range: 300 - 400\n"
     ]
    },
    {
     "data": {
      "application/vnd.jupyter.widget-view+json": {
       "model_id": "845e0613ad254f8eb70f80816a65f0d5",
       "version_major": 2,
       "version_minor": 0
      },
      "text/plain": [
       "interactive(children=(IntSlider(value=300, description='idx', max=400, min=300), Output()), _dom_classes=('wid…"
      ]
     },
     "metadata": {},
     "output_type": "display_data"
    }
   ],
   "source": [
    "look_dataset(dataset_path, dataset_filenames, 300, 100)"
   ]
  },
  {
   "cell_type": "markdown",
   "metadata": {},
   "source": [
    "## Look up CVACT dataset: interactively"
   ]
  },
  {
   "cell_type": "code",
   "execution_count": 105,
   "metadata": {},
   "outputs": [],
   "source": [
    "from pathlib import Path\n",
    "from orissl_cvm.datasets.cvact_dataset import CVACTDataset\n",
    "from orissl_cvm.utils.tools import input_transform\n",
    "from torch.utils.data import DataLoader"
   ]
  },
  {
   "cell_type": "code",
   "execution_count": 2,
   "metadata": {},
   "outputs": [
    {
     "name": "stdout",
     "output_type": "stream",
     "text": [
      "Construct neighbor searches: kd_tree\n",
      "Finding positive neighbors for 107718 queries\n",
      "Finding non-negative neighbors for 107718 queries\n"
     ]
    },
    {
     "name": "stderr",
     "output_type": "stream",
     "text": [
      "/scratch/zxia/MSc/Jianfeng/projects/orissl-cvm/orissl_cvm/datasets/cvact_dataset.py:177: VisibleDeprecationWarning: Creating an ndarray from ragged nested sequences (which is a list-or-tuple of lists-or-tuples-or ndarrays with different lengths or shapes) is deprecated. If you meant to do this, you must specify 'dtype=object' when creating the ndarray.\n",
      "  self.pIdx = np.asarray(self.pIdx)\n",
      "/scratch/zxia/MSc/Jianfeng/projects/orissl-cvm/orissl_cvm/datasets/cvact_dataset.py:178: VisibleDeprecationWarning: Creating an ndarray from ragged nested sequences (which is a list-or-tuple of lists-or-tuples-or ndarrays with different lengths or shapes) is deprecated. If you meant to do this, you must specify 'dtype=object' when creating the ndarray.\n",
      "  self.nonNegIdx = np.asarray(self.nonNegIdx)\n"
     ]
    }
   ],
   "source": [
    "root_dir = Path('./data/CVACT_full/').absolute()\n",
    "\n",
    "# get transform\n",
    "transform = input_transform(resize=(112, 616))\n",
    "\n",
    "train_dataset = CVACTDataset(root_dir, nNeg=5, transform=transform, mode='train', task='im2im', \n",
    "                        subtask='all', seq_length=1, posDistThr=15, negDistThr=100, cached_queries=1000, \n",
    "                        cached_negatives=1000, positive_sampling=True, bs=4, threads=8, margin=0.1)"
   ]
  },
  {
   "cell_type": "code",
   "execution_count": 98,
   "metadata": {},
   "outputs": [],
   "source": [
    "# divides dataset into smaller cache sets\n",
    "train_dataset.new_epoch()\n",
    "\n",
    "# creates triplets on the smaller cache set\n",
    "train_dataset.update_subcache()\n",
    "\n",
    "# create data loader\n",
    "opt = {'batch_size': 4, 'shuffle': False, 'collate_fn': CVACTDataset.collate_fn}\n",
    "training_loader = DataLoader(train_dataset, **opt)"
   ]
  },
  {
   "cell_type": "code",
   "execution_count": 108,
   "metadata": {},
   "outputs": [],
   "source": [
    "import matplotlib.pyplot as plt\n",
    "import numpy as np\n",
    "\n",
    "def denormalize(im):\n",
    "\timage = im.numpy()\n",
    "\tim = (image - np.min(image)) / (np.max(image) - np.min(image))\n",
    "\tim = np.ascontiguousarray(im * 255, dtype=np.uint8)\n",
    "\treturn im\n",
    "\n",
    "def visualize_triplet(batch, sample_idx):\n",
    "\n",
    "\tquery, positive, negatives, meta = batch\n",
    "\tnegCounts, indices, keys = meta['negCounts'], meta['indices'], meta['keys']\n",
    "\n",
    "\tB = query[0].shape[0]\n",
    "\tnc = 0\n",
    "\n",
    "\tnum_ns = negCounts[sample_idx].item()\n",
    "\tnum_qpns = num_ns + 2\n",
    "\n",
    "\tfig, axes = plt.subplots(nrows=num_qpns, ncols=2, figsize=(15,15))\n",
    "\tfig.suptitle(\n",
    "\t\tf'Batch sample {sample_idx}: query, positive, and {num_ns} negatives',\n",
    "\t\tfontsize=15)\n",
    "\tfig.tight_layout()\n",
    "\tfig.subplots_adjust(top=0.95)\n",
    "\t\n",
    "\taxes[0,0].imshow(np.transpose(denormalize(query[0][sample_idx]),(1,2,0)))\n",
    "\taxes[0,0].set_title(\n",
    "\t\tf\"Query ==> ground image\\n{keys[sample_idx]['query']['gr_img']}\")\n",
    "\n",
    "\taxes[0,1].imshow(np.transpose(denormalize(query[1][sample_idx]),(1,2,0)))\n",
    "\taxes[0,1].set_title(\n",
    "\t\tf\"Query ==> satellite image\\n{keys[sample_idx]['query']['sa_img']}\")\n",
    "\n",
    "\taxes[1,0].imshow(np.transpose(denormalize(positive[0][sample_idx]),(1,2,0)))\n",
    "\taxes[1,0].set_title(\n",
    "\t\tf\"Positive ==> ground image\\n{keys[sample_idx]['positive']['gr_img']}\")\n",
    "\t\n",
    "\taxes[1,1].imshow(np.transpose(denormalize(positive[1][sample_idx]),(1,2,0)))\n",
    "\taxes[1,1].set_title(\n",
    "\t\tf\"Positive ==> satellite image\\n{keys[sample_idx]['positive']['sa_img']}\")\n",
    "\n",
    "\tfor i in range(num_ns):\n",
    "\t\taxes[2+i,0].imshow(np.transpose(denormalize(negatives[0][nc+i]),(1,2,0)))\n",
    "\t\taxes[2+i,0].set_title(\n",
    "\t\t\tf\"Negative {i} ==> ground image\\n{keys[sample_idx]['negatives'][i]['gr_img']}\")\n",
    "\n",
    "\t\taxes[2+i,1].imshow(np.transpose(denormalize(negatives[1][nc+i]),(1,2,0)))\n",
    "\t\taxes[2+i,1].set_title(\n",
    "\t\t\tf\"Negative {i} ==> satellite image\\n{keys[sample_idx]['negatives'][i]['sa_img']}\")\n",
    "\tnc += num_ns\n",
    "\tplt.show()"
   ]
  },
  {
   "cell_type": "code",
   "execution_count": 130,
   "metadata": {},
   "outputs": [
    {
     "data": {
      "application/vnd.jupyter.widget-view+json": {
       "model_id": "371e11cc8bb349278a11ffc256add4c7",
       "version_major": 2,
       "version_minor": 0
      },
      "text/plain": [
       "VBox(children=(Button(description='Next Batch', layout=Layout(width='10%'), style=ButtonStyle()), Output()))"
      ]
     },
     "metadata": {},
     "output_type": "display_data"
    }
   ],
   "source": [
    "# visualize triplets\n",
    "\n",
    "import ipywidgets as widgets\n",
    "from IPython.display import display, clear_output\n",
    "\n",
    "button = widgets.Button(\n",
    "    description='Next Batch',\n",
    "    layout=widgets.Layout(width='10%')\n",
    ")\n",
    "out = widgets.Output()\n",
    "bs = training_loader.batch_size\n",
    "it = iter(training_loader)\n",
    "\n",
    "def on_button_clicked(_):\n",
    "    # \"linking function with output\"\n",
    "    with out:\n",
    "        try:\n",
    "            batch = next(it)\n",
    "        except StopIteration:\n",
    "            print(\"Data loader ran out.\")\n",
    "        clear_output()\n",
    "        # display(f'')\n",
    "        sample_slider = widgets.IntSlider(\n",
    "            value=0, min=0, max=bs-1, step=1, \n",
    "            description='Sample:',\n",
    "            layout=widgets.Layout(width='25%')\n",
    "        )\n",
    "        widgets.interact(lambda sample_idx: visualize_triplet(batch, sample_idx),\n",
    "                         sample_idx=sample_slider)\n",
    "button.on_click(on_button_clicked)\n",
    "# displaying button and its output together\n",
    "widgets.VBox([button,out])\n",
    "    "
   ]
  },
  {
   "cell_type": "markdown",
   "metadata": {},
   "source": [
    "## Look up VGG16 architecture"
   ]
  },
  {
   "cell_type": "code",
   "execution_count": 1,
   "metadata": {},
   "outputs": [],
   "source": [
    "import torchvision.models as models\n",
    "import torch.nn as nn"
   ]
  },
  {
   "cell_type": "code",
   "execution_count": 2,
   "metadata": {},
   "outputs": [],
   "source": [
    "enc = models.vgg16(pretrained=True)\n",
    "print(enc)"
   ]
  },
  {
   "cell_type": "code",
   "execution_count": null,
   "metadata": {},
   "outputs": [],
   "source": [
    "layers = list(enc.features.children())"
   ]
  },
  {
   "cell_type": "code",
   "execution_count": 21,
   "metadata": {},
   "outputs": [],
   "source": [
    "print(len(layers))\n",
    "for layer in layers[:-5]:\n",
    "    print(layer)\n",
    "    for p in layer.parameters():\n",
    "        pass"
   ]
  },
  {
   "cell_type": "code",
   "execution_count": null,
   "metadata": {},
   "outputs": [],
   "source": []
  },
  {
   "cell_type": "markdown",
   "metadata": {},
   "source": [
    "## Create a CVACT-mini dataset info"
   ]
  },
  {
   "cell_type": "markdown",
   "metadata": {},
   "source": [
    "手动取原list的前1/10作为我们mini集的数据\n",
    "\n",
    "```cat trainlist.txt | wc -l```\n",
    "\n",
    "\"86469\"\n",
    "\n",
    "```cat trainlist.txt | head -n 8646 > ../CVACT_infos_mini/trainlist.txt```\n",
    "\n",
    "Same for vallist.txt, testlist.txt"
   ]
  },
  {
   "cell_type": "markdown",
   "metadata": {},
   "source": [
    "## Others"
   ]
  },
  {
   "cell_type": "markdown",
   "metadata": {},
   "source": [
    "### zip"
   ]
  },
  {
   "cell_type": "code",
   "execution_count": 31,
   "metadata": {},
   "outputs": [
    {
     "name": "stdout",
     "output_type": "stream",
     "text": [
      "[array([0.]), array([0.])]\n",
      "[array([1.]), array([1.])]\n"
     ]
    }
   ],
   "source": [
    "import numpy as np\n",
    "\n",
    "a1 = [np.zeros(1)]\n",
    "a2 = a1 * 2\n",
    "b1 = [np.ones(1)]\n",
    "b2 = b1 * 2\n",
    "\n",
    "print(a2)\n",
    "print(b2)"
   ]
  },
  {
   "cell_type": "code",
   "execution_count": 35,
   "metadata": {},
   "outputs": [
    {
     "name": "stdout",
     "output_type": "stream",
     "text": [
      "[array([0.]), array([0.])] token3\n",
      "[array([1.]), array([1.])] token4\n",
      "[array([0.])] token3\n",
      "[array([0.]), array([0.])] token4\n"
     ]
    }
   ],
   "source": [
    "c = 'token3'\n",
    "d = 'token4'\n",
    "for x, y in zip([a2, b2], [c, d]):\n",
    "    print(x, y)\n",
    "for x, y in zip([a1, a2, b1, b2], [c, d]):\n",
    "    print(x, y)\n",
    "# 直观来说，zip起来直接一起iterate更方便"
   ]
  },
  {
   "cell_type": "code",
   "execution_count": 36,
   "metadata": {},
   "outputs": [
    {
     "name": "stdout",
     "output_type": "stream",
     "text": [
      "A a 1\n",
      "B b 2\n",
      "C c 3\n"
     ]
    }
   ],
   "source": [
    "uppercase = ['A', 'B', 'C']\n",
    "lowercase = ['a', 'b', 'c']\n",
    "numbers = [1, 2, 3]\n",
    "\n",
    "for x, y, z in zip(uppercase, lowercase, numbers):\n",
    "    print(x, y, z)"
   ]
  },
  {
   "cell_type": "code",
   "execution_count": null,
   "metadata": {},
   "outputs": [],
   "source": []
  }
 ],
 "metadata": {
  "interpreter": {
   "hash": "302881b9d586535b3239efc069d02e6e93f6502ee2b8ffca8a2c5ae3d135ae98"
  },
  "kernelspec": {
   "display_name": "Python 3.8.13 64-bit ('vissl': conda)",
   "name": "python3"
  },
  "language_info": {
   "codemirror_mode": {
    "name": "ipython",
    "version": 3
   },
   "file_extension": ".py",
   "mimetype": "text/x-python",
   "name": "python",
   "nbconvert_exporter": "python",
   "pygments_lexer": "ipython3",
   "version": "3.8.13"
  },
  "orig_nbformat": 4
 },
 "nbformat": 4,
 "nbformat_minor": 2
}
